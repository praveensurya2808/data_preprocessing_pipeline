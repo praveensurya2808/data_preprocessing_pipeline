{
  "nbformat": 4,
  "nbformat_minor": 0,
  "metadata": {
    "colab": {
      "provenance": [],
      "authorship_tag": "ABX9TyOzG/U3H7CLeR/QxvGUw49O",
      "include_colab_link": true
    },
    "kernelspec": {
      "name": "python3",
      "display_name": "Python 3"
    },
    "language_info": {
      "name": "python"
    }
  },
  "cells": [
    {
      "cell_type": "markdown",
      "metadata": {
        "id": "view-in-github",
        "colab_type": "text"
      },
      "source": [
        "<a href=\"https://colab.research.google.com/github/praveensurya2808/data_preprocessing_pipeline/blob/main/Data_preprocessing_pipeline.ipynb\" target=\"_parent\"><img src=\"https://colab.research.google.com/assets/colab-badge.svg\" alt=\"Open In Colab\"/></a>"
      ]
    },
    {
      "cell_type": "code",
      "execution_count": 7,
      "metadata": {
        "id": "jQ8_ImYiLUu1"
      },
      "outputs": [],
      "source": [
        "import pandas as pd\n",
        "import numpy as np\n",
        "from sklearn.preprocessing import StandardScaler\n",
        "\n",
        "def data_preprocessing_pipeline(data):\n",
        "  #Identify the Numeric and Categorical features\n",
        "  numeric_features = data.select_dtypes(include=['float64', 'int64']).columns\n",
        "  categorical_features = data.select_dtypes(include=['object']).columns\n",
        "\n",
        "  #Handling the missing values in numeric features\n",
        "  data[numeric_features] = data[numeric_features].fillna(data[numeric_features].mean())\n",
        "\n",
        "  #detect and handling the IQR\n",
        "\n",
        "  for feature in numeric_features:\n",
        "    q1 = data[feature].quantile(0.25)\n",
        "    q3 = data[feature].quantile(0.75)\n",
        "    iqr = q3 - q1\n",
        "    lower_bound = q1 - 1.5 * iqr\n",
        "    upper_bound = q3 + 1.5 * iqr\n",
        "    data[feature] = np.where(data[feature] < lower_bound, data[feature].mean(), data[feature])\n",
        "    data[feature] = np.where(data[feature] > upper_bound, data[feature].mean(), data[feature])\n",
        "\n",
        "  #Normalize the Neumeric features\n",
        "  scaler = StandardScaler()\n",
        "  data[numeric_features] = scaler.fit_transform(data[numeric_features])\n",
        "  data[numeric_features] = scaler.transform(data[numeric_features])\n",
        "\n",
        "  return data\n",
        "\n",
        "\n",
        "\n",
        "\n"
      ]
    },
    {
      "cell_type": "code",
      "source": [
        "data = pd.read_csv('/content/fifa21 raw data v2.csv')\n",
        "print('original_data:')\n",
        "print(data)"
      ],
      "metadata": {
        "colab": {
          "base_uri": "https://localhost:8080/"
        },
        "id": "fbDbx9VbUSGw",
        "outputId": "cea2cb8d-0198-463d-a5c1-664349f89376"
      },
      "execution_count": 9,
      "outputs": [
        {
          "output_type": "stream",
          "name": "stdout",
          "text": [
            "           ID               Name                      LongName  \\\n",
            "0      158023           L. Messi                  Lionel Messi   \n",
            "1       20801  Cristiano Ronaldo  C. Ronaldo dos Santos Aveiro   \n",
            "2      200389           J. Oblak                     Jan Oblak   \n",
            "3      192985       K. De Bruyne               Kevin De Bruyne   \n",
            "4      190871          Neymar Jr    Neymar da Silva Santos Jr.   \n",
            "...       ...                ...                           ...   \n",
            "18974  247223             Xia Ao                        Ao Xia   \n",
            "18975  258760           B. Hough                     Ben Hough   \n",
            "18976  252757        R. McKinley                Ronan McKinley   \n",
            "18977  243790       Wang Zhen'ao                  Zhen'ao Wang   \n",
            "18978  252520          Zhou Xiao                     Xiao Zhou   \n",
            "\n",
            "                                               photoUrl  \\\n",
            "0      https://cdn.sofifa.com/players/158/023/21_60.png   \n",
            "1      https://cdn.sofifa.com/players/020/801/21_60.png   \n",
            "2      https://cdn.sofifa.com/players/200/389/21_60.png   \n",
            "3      https://cdn.sofifa.com/players/192/985/21_60.png   \n",
            "4      https://cdn.sofifa.com/players/190/871/21_60.png   \n",
            "...                                                 ...   \n",
            "18974  https://cdn.sofifa.com/players/247/223/21_60.png   \n",
            "18975  https://cdn.sofifa.com/players/258/760/21_60.png   \n",
            "18976  https://cdn.sofifa.com/players/252/757/21_60.png   \n",
            "18977  https://cdn.sofifa.com/players/243/790/21_60.png   \n",
            "18978  https://cdn.sofifa.com/players/252/520/21_60.png   \n",
            "\n",
            "                                               playerUrl Nationality  Age  \\\n",
            "0      http://sofifa.com/player/158023/lionel-messi/2...   Argentina   33   \n",
            "1      http://sofifa.com/player/20801/c-ronaldo-dos-s...    Portugal   35   \n",
            "2      http://sofifa.com/player/200389/jan-oblak/210006/    Slovenia   27   \n",
            "3      http://sofifa.com/player/192985/kevin-de-bruyn...     Belgium   29   \n",
            "4      http://sofifa.com/player/190871/neymar-da-silv...      Brazil   28   \n",
            "...                                                  ...         ...  ...   \n",
            "18974     http://sofifa.com/player/247223/ao-xia/210006/    China PR   21   \n",
            "18975  http://sofifa.com/player/258760/ben-hough/210006/     England   17   \n",
            "18976  http://sofifa.com/player/252757/ronan-mckinley...     England   18   \n",
            "18977  http://sofifa.com/player/243790/zhenao-wang/21...    China PR   20   \n",
            "18978  http://sofifa.com/player/252520/xiao-zhou/210006/    China PR   21   \n",
            "\n",
            "       ↓OVA  POT                         Club  ...     A/W     D/W   IR PAC  \\\n",
            "0        93   93         \\n\\n\\n\\nFC Barcelona  ...  Medium     Low  5 ★  85   \n",
            "1        92   92             \\n\\n\\n\\nJuventus  ...    High     Low  5 ★  89   \n",
            "2        91   93      \\n\\n\\n\\nAtlético Madrid  ...  Medium  Medium  3 ★  87   \n",
            "3        91   91      \\n\\n\\n\\nManchester City  ...    High    High  4 ★  76   \n",
            "4        91   91  \\n\\n\\n\\nParis Saint-Germain  ...    High  Medium  5 ★  91   \n",
            "...     ...  ...                          ...  ...     ...     ...  ...  ..   \n",
            "18974    47   55           \\n\\n\\n\\nWuhan Zall  ...  Medium  Medium  1 ★  64   \n",
            "18975    47   67      \\n\\n\\n\\nOldham Athletic  ...  Medium  Medium  1 ★  64   \n",
            "18976    47   65           \\n\\n\\n\\nDerry City  ...  Medium  Medium  1 ★  63   \n",
            "18977    47   57     \\n\\n\\n\\nDalian YiFang FC  ...  Medium  Medium  1 ★  58   \n",
            "18978    47   57     \\n\\n\\n\\nDalian YiFang FC  ...  Medium  Medium  1 ★  62   \n",
            "\n",
            "      SHO  PAS DRI DEF PHY Hits  \n",
            "0      92   91  95  38  65  771  \n",
            "1      93   81  89  35  77  562  \n",
            "2      92   78  90  52  90  150  \n",
            "3      86   93  88  64  78  207  \n",
            "4      85   86  94  36  59  595  \n",
            "...    ..  ...  ..  ..  ..  ...  \n",
            "18974  28   26  38  48  51  NaN  \n",
            "18975  40   48  49  35  45  NaN  \n",
            "18976  39   44  46  40  53  NaN  \n",
            "18977  49   41  49  30  44  NaN  \n",
            "18978  22   39  42  45  55  NaN  \n",
            "\n",
            "[18979 rows x 77 columns]\n"
          ]
        },
        {
          "output_type": "stream",
          "name": "stderr",
          "text": [
            "/tmp/ipython-input-2360355038.py:1: DtypeWarning: Columns (76) have mixed types. Specify dtype option on import or set low_memory=False.\n",
            "  data = pd.read_csv('/content/fifa21 raw data v2.csv')\n"
          ]
        }
      ]
    },
    {
      "cell_type": "code",
      "source": [
        "cleaned_data = data_preprocessing_pipeline(data)\n",
        "print('cleaned_data:')\n",
        "print(cleaned_data)"
      ],
      "metadata": {
        "colab": {
          "base_uri": "https://localhost:8080/"
        },
        "id": "IRKaMxcGU-Vm",
        "outputId": "3ce238f4-8ffe-49bc-8914-a7f900982928"
      },
      "execution_count": 10,
      "outputs": [
        {
          "output_type": "stream",
          "name": "stdout",
          "text": [
            "cleaned_data:\n",
            "             ID               Name                      LongName  \\\n",
            "0     -9.584909           L. Messi                  Lionel Messi   \n",
            "1     -9.584788  Cristiano Ronaldo  C. Ronaldo dos Santos Aveiro   \n",
            "2     -9.584834           J. Oblak                     Jan Oblak   \n",
            "3     -9.584847       K. De Bruyne               Kevin De Bruyne   \n",
            "4     -9.584851          Neymar Jr    Neymar da Silva Santos Jr.   \n",
            "...         ...                ...                           ...   \n",
            "18974 -9.584751             Xia Ao                        Ao Xia   \n",
            "18975 -9.584730           B. Hough                     Ben Hough   \n",
            "18976 -9.584741        R. McKinley                Ronan McKinley   \n",
            "18977 -9.584757       Wang Zhen'ao                  Zhen'ao Wang   \n",
            "18978 -9.584742          Zhou Xiao                     Xiao Zhou   \n",
            "\n",
            "                                               photoUrl  \\\n",
            "0      https://cdn.sofifa.com/players/158/023/21_60.png   \n",
            "1      https://cdn.sofifa.com/players/020/801/21_60.png   \n",
            "2      https://cdn.sofifa.com/players/200/389/21_60.png   \n",
            "3      https://cdn.sofifa.com/players/192/985/21_60.png   \n",
            "4      https://cdn.sofifa.com/players/190/871/21_60.png   \n",
            "...                                                 ...   \n",
            "18974  https://cdn.sofifa.com/players/247/223/21_60.png   \n",
            "18975  https://cdn.sofifa.com/players/258/760/21_60.png   \n",
            "18976  https://cdn.sofifa.com/players/252/757/21_60.png   \n",
            "18977  https://cdn.sofifa.com/players/243/790/21_60.png   \n",
            "18978  https://cdn.sofifa.com/players/252/520/21_60.png   \n",
            "\n",
            "                                               playerUrl Nationality  \\\n",
            "0      http://sofifa.com/player/158023/lionel-messi/2...   Argentina   \n",
            "1      http://sofifa.com/player/20801/c-ronaldo-dos-s...    Portugal   \n",
            "2      http://sofifa.com/player/200389/jan-oblak/210006/    Slovenia   \n",
            "3      http://sofifa.com/player/192985/kevin-de-bruyn...     Belgium   \n",
            "4      http://sofifa.com/player/190871/neymar-da-silv...      Brazil   \n",
            "...                                                  ...         ...   \n",
            "18974     http://sofifa.com/player/247223/ao-xia/210006/    China PR   \n",
            "18975  http://sofifa.com/player/258760/ben-hough/210006/     England   \n",
            "18976  http://sofifa.com/player/252757/ronan-mckinley...     England   \n",
            "18977  http://sofifa.com/player/243790/zhenao-wang/21...    China PR   \n",
            "18978  http://sofifa.com/player/252520/xiao-zhou/210006/    China PR   \n",
            "\n",
            "            Age      ↓OVA        POT                         Club  ...  \\\n",
            "0     -5.010432 -9.751841 -12.073560         \\n\\n\\n\\nFC Barcelona  ...   \n",
            "1     -4.919684 -9.751841 -12.073560             \\n\\n\\n\\nJuventus  ...   \n",
            "2     -5.282674 -9.751841 -12.073560      \\n\\n\\n\\nAtlético Madrid  ...   \n",
            "3     -5.191926 -9.751841 -12.073560      \\n\\n\\n\\nManchester City  ...   \n",
            "4     -5.237300 -9.751841 -12.073560  \\n\\n\\n\\nParis Saint-Germain  ...   \n",
            "...         ...       ...        ...                          ...  ...   \n",
            "18974 -5.554916 -9.752147 -12.540673           \\n\\n\\n\\nWuhan Zall  ...   \n",
            "18975 -5.736410 -9.752147 -12.194273      \\n\\n\\n\\nOldham Athletic  ...   \n",
            "18976 -5.691037 -9.752147 -12.252006           \\n\\n\\n\\nDerry City  ...   \n",
            "18977 -5.600289 -9.752147 -12.482940     \\n\\n\\n\\nDalian YiFang FC  ...   \n",
            "18978 -5.554916 -9.752147 -12.482940     \\n\\n\\n\\nDalian YiFang FC  ...   \n",
            "\n",
            "          A/W     D/W   IR       PAC       SHO       PAS       DRI       DEF  \\\n",
            "0      Medium     Low  5 ★ -6.808624 -3.664519 -5.963675 -7.076763 -3.076602   \n",
            "1        High     Low  5 ★ -6.766421 -3.659289 -5.717236 -7.076763 -3.087698   \n",
            "2      Medium  Medium  3 ★ -6.787523 -3.664519 -5.749198 -7.076763 -3.024820   \n",
            "3        High    High  4 ★ -6.903582 -3.695902 -5.963675 -7.076763 -2.980436   \n",
            "4        High  Medium  5 ★ -6.745320 -3.701132 -5.963675 -7.076763 -3.083999   \n",
            "...       ...     ...  ...       ...       ...       ...       ...       ...   \n",
            "18974  Medium  Medium  1 ★ -7.030191 -3.999269 -5.965677 -7.083955 -3.039615   \n",
            "18975  Medium  Medium  1 ★ -7.030191 -3.936503 -6.068819 -7.256951 -3.087698   \n",
            "18976  Medium  Medium  1 ★ -7.040742 -3.941734 -6.111435 -7.294355 -3.069205   \n",
            "18977  Medium  Medium  1 ★ -7.093496 -3.889429 -6.143397 -7.256951 -3.106192   \n",
            "18978  Medium  Medium  1 ★ -7.051293 -4.030652 -6.164705 -7.344228 -3.050711   \n",
            "\n",
            "            PHY Hits  \n",
            "0     -6.905359  771  \n",
            "1     -6.767741  562  \n",
            "2     -6.618655  150  \n",
            "3     -6.756273  207  \n",
            "4     -6.974169  595  \n",
            "...         ...  ...  \n",
            "18974 -7.065914  NaN  \n",
            "18975 -7.134723  NaN  \n",
            "18976 -7.042978  NaN  \n",
            "18977 -7.146191  NaN  \n",
            "18978 -7.020041  NaN  \n",
            "\n",
            "[18979 rows x 77 columns]\n"
          ]
        }
      ]
    }
  ]
}